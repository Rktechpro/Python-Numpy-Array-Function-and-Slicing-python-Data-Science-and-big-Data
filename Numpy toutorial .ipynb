{
 "cells": [
  {
   "cell_type": "markdown",
   "id": "6ae5c67f",
   "metadata": {},
   "source": [
    "## Basic Function Numpy modul"
   ]
  },
  {
   "cell_type": "code",
   "execution_count": 1,
   "id": "2d8db583",
   "metadata": {},
   "outputs": [
    {
     "name": "stdout",
     "output_type": "stream",
     "text": [
      "[[3 4 5 6 8]\n",
      " [1 3 7 8 6]]\n"
     ]
    }
   ],
   "source": [
    "import numpy as np\n",
    "array1=np.array([[3,4,5,6,8],[1,3,7,8,6]], dtype='int32')\n",
    "print(array1)"
   ]
  },
  {
   "cell_type": "code",
   "execution_count": 2,
   "id": "5636a64d",
   "metadata": {},
   "outputs": [
    {
     "data": {
      "text/plain": [
       "(2, 5)"
      ]
     },
     "execution_count": 2,
     "metadata": {},
     "output_type": "execute_result"
    }
   ],
   "source": [
    "array1.shape"
   ]
  },
  {
   "cell_type": "code",
   "execution_count": 3,
   "id": "9191732b",
   "metadata": {},
   "outputs": [
    {
     "data": {
      "text/plain": [
       "dtype('int32')"
      ]
     },
     "execution_count": 3,
     "metadata": {},
     "output_type": "execute_result"
    }
   ],
   "source": [
    "array1.dtype"
   ]
  },
  {
   "cell_type": "code",
   "execution_count": 4,
   "id": "06dd3b1c",
   "metadata": {},
   "outputs": [
    {
     "data": {
      "text/plain": [
       "array([[0., 0., 0., 0., 0., 0., 0.],\n",
       "       [0., 0., 0., 0., 0., 0., 0.],\n",
       "       [0., 0., 0., 0., 0., 0., 0.],\n",
       "       [0., 0., 0., 0., 0., 0., 0.]])"
      ]
     },
     "execution_count": 4,
     "metadata": {},
     "output_type": "execute_result"
    }
   ],
   "source": [
    "np.zeros((4,7))"
   ]
  },
  {
   "cell_type": "code",
   "execution_count": 5,
   "id": "8a98cd8e",
   "metadata": {},
   "outputs": [
    {
     "data": {
      "text/plain": [
       "dtype('float64')"
      ]
     },
     "execution_count": 5,
     "metadata": {},
     "output_type": "execute_result"
    }
   ],
   "source": [
    "np.ones(7).dtype"
   ]
  },
  {
   "cell_type": "code",
   "execution_count": 6,
   "id": "3e6f567f",
   "metadata": {},
   "outputs": [
    {
     "data": {
      "text/plain": [
       "array([[0., 0., 0., 0., 0., 0., 0.],\n",
       "       [0., 0., 0., 0., 0., 0., 0.],\n",
       "       [0., 0., 0., 0., 0., 0., 0.],\n",
       "       [0., 0., 0., 0., 0., 0., 0.]])"
      ]
     },
     "execution_count": 6,
     "metadata": {},
     "output_type": "execute_result"
    }
   ],
   "source": [
    "np.empty((4,7))"
   ]
  },
  {
   "cell_type": "code",
   "execution_count": 7,
   "id": "4c3b81df",
   "metadata": {},
   "outputs": [],
   "source": [
    "arr=np.arange(1000000)"
   ]
  },
  {
   "cell_type": "code",
   "execution_count": 8,
   "id": "d5e5f9bb",
   "metadata": {},
   "outputs": [
    {
     "name": "stdout",
     "output_type": "stream",
     "text": [
      "CPU times: total: 62.5 ms\n",
      "Wall time: 62.4 ms\n"
     ]
    }
   ],
   "source": [
    "%time for _ in range(10):arr=arr*3"
   ]
  },
  {
   "cell_type": "code",
   "execution_count": 9,
   "id": "85898bdc",
   "metadata": {},
   "outputs": [
    {
     "data": {
      "text/plain": [
       "array([2, 3, 4, 5, 6, 7, 8, 9])"
      ]
     },
     "execution_count": 9,
     "metadata": {},
     "output_type": "execute_result"
    }
   ],
   "source": [
    "np.array([2,3,4,5,6,7,8,9])"
   ]
  },
  {
   "cell_type": "code",
   "execution_count": 10,
   "id": "210f6abb",
   "metadata": {},
   "outputs": [
    {
     "data": {
      "text/plain": [
       "array([[3, 4, 5, 6, 8],\n",
       "       [1, 3, 7, 8, 6]])"
      ]
     },
     "execution_count": 10,
     "metadata": {},
     "output_type": "execute_result"
    }
   ],
   "source": [
    "array1"
   ]
  },
  {
   "cell_type": "code",
   "execution_count": 11,
   "id": "88c00563",
   "metadata": {},
   "outputs": [
    {
     "data": {
      "text/plain": [
       "array([[      27,      256,     3125,    46656, 16777216],\n",
       "       [       1,       27,   823543, 16777216,    46656]])"
      ]
     },
     "execution_count": 11,
     "metadata": {},
     "output_type": "execute_result"
    }
   ],
   "source": [
    "array1**array1"
   ]
  },
  {
   "cell_type": "code",
   "execution_count": 12,
   "id": "2fb3c321",
   "metadata": {},
   "outputs": [
    {
     "data": {
      "text/plain": [
       "array([8916100448256], dtype=int64)"
      ]
     },
     "execution_count": 12,
     "metadata": {},
     "output_type": "execute_result"
    }
   ],
   "source": [
    "np.array([12**12])"
   ]
  },
  {
   "cell_type": "code",
   "execution_count": 13,
   "id": "76a1d977",
   "metadata": {},
   "outputs": [
    {
     "data": {
      "text/plain": [
       "array([[0.33333333, 0.25      , 0.2       , 0.16666667, 0.125     ],\n",
       "       [1.        , 0.33333333, 0.14285714, 0.125     , 0.16666667]])"
      ]
     },
     "execution_count": 13,
     "metadata": {},
     "output_type": "execute_result"
    }
   ],
   "source": [
    "1/array1"
   ]
  },
  {
   "cell_type": "markdown",
   "id": "ae503880",
   "metadata": {},
   "source": [
    "## Slicing"
   ]
  },
  {
   "cell_type": "code",
   "execution_count": 14,
   "id": "9147cce4",
   "metadata": {},
   "outputs": [],
   "source": [
    "array2=np.array([4,5,32,6,7,8])"
   ]
  },
  {
   "cell_type": "code",
   "execution_count": 15,
   "id": "53f32285",
   "metadata": {},
   "outputs": [],
   "source": [
    "arr=array2[4:6].copy()"
   ]
  },
  {
   "cell_type": "code",
   "execution_count": 16,
   "id": "2af5dfab",
   "metadata": {},
   "outputs": [
    {
     "data": {
      "text/plain": [
       "array([7, 8])"
      ]
     },
     "execution_count": 16,
     "metadata": {},
     "output_type": "execute_result"
    }
   ],
   "source": [
    "arr"
   ]
  },
  {
   "cell_type": "code",
   "execution_count": 17,
   "id": "1127f0fc",
   "metadata": {},
   "outputs": [],
   "source": [
    "arr[0]=9"
   ]
  },
  {
   "cell_type": "code",
   "execution_count": 18,
   "id": "30aaf100",
   "metadata": {},
   "outputs": [
    {
     "data": {
      "text/plain": [
       "array([ 4,  5, 32,  6,  7,  8])"
      ]
     },
     "execution_count": 18,
     "metadata": {},
     "output_type": "execute_result"
    }
   ],
   "source": [
    "array2"
   ]
  },
  {
   "cell_type": "code",
   "execution_count": 19,
   "id": "4e306c50",
   "metadata": {},
   "outputs": [
    {
     "data": {
      "text/plain": [
       "array([[3, 4, 5, 6, 8],\n",
       "       [1, 3, 7, 8, 6]])"
      ]
     },
     "execution_count": 19,
     "metadata": {},
     "output_type": "execute_result"
    }
   ],
   "source": [
    "array1"
   ]
  },
  {
   "cell_type": "code",
   "execution_count": 22,
   "id": "17d82de5",
   "metadata": {},
   "outputs": [
    {
     "data": {
      "text/plain": [
       "6"
      ]
     },
     "execution_count": 22,
     "metadata": {},
     "output_type": "execute_result"
    }
   ],
   "source": [
    "array1[0,3]"
   ]
  },
  {
   "cell_type": "code",
   "execution_count": null,
   "id": "390e153c",
   "metadata": {},
   "outputs": [],
   "source": []
  }
 ],
 "metadata": {
  "kernelspec": {
   "display_name": "Python 3 (ipykernel)",
   "language": "python",
   "name": "python3"
  },
  "language_info": {
   "codemirror_mode": {
    "name": "ipython",
    "version": 3
   },
   "file_extension": ".py",
   "mimetype": "text/x-python",
   "name": "python",
   "nbconvert_exporter": "python",
   "pygments_lexer": "ipython3",
   "version": "3.10.1"
  }
 },
 "nbformat": 4,
 "nbformat_minor": 5
}
